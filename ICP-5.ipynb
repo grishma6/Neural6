{
 "cells": [
  {
   "cell_type": "code",
   "execution_count": 7,
   "metadata": {},
   "outputs": [
    {
     "name": "stdout",
     "output_type": "stream",
     "text": [
      "Classification Report:\n",
      "               precision    recall  f1-score   support\n",
      "\n",
      "           1       0.19      0.44      0.27         9\n",
      "           2       0.33      0.16      0.21        19\n",
      "           3       0.33      0.20      0.25         5\n",
      "           5       0.00      0.00      0.00         2\n",
      "           6       0.67      1.00      0.80         2\n",
      "           7       1.00      1.00      1.00         6\n",
      "\n",
      "    accuracy                           0.37        43\n",
      "   macro avg       0.42      0.47      0.42        43\n",
      "weighted avg       0.40      0.37      0.36        43\n",
      "\n",
      "Accuracy of Naive Bayes is: 37.21\n"
     ]
    }
   ],
   "source": [
    "import pandas as pd\n",
    "from sklearn.model_selection import train_test_split\n",
    "from sklearn.naive_bayes import GaussianNB\n",
    "from sklearn.metrics import accuracy_score, classification_report\n",
    "\n",
    "# Loading the Glass dataset\n",
    "glass = pd.read_csv('glass.csv')\n",
    "\n",
    "#removing the column to be predicted from the dataframe\n",
    "x = glass.drop(\"Type\", axis=1)\n",
    "\n",
    "#creating an array for the target column prediction\n",
    "y = glass['Type']\n",
    "\n",
    "# splitting train and test data using train_test_split\n",
    "x_train, x_test, y_train, y_test = train_test_split(x, y, test_size=0.2, random_state=0)\n",
    "\n",
    "# Initializing the Naive Bayes model\n",
    "gnb_model = GaussianNB()\n",
    "\n",
    "# Train the model on the training set\n",
    "gnb_model.fit(x_train, y_train)\n",
    "\n",
    "# Make predictions on the test set\n",
    "y_pred = gnb_model.predict(x_test)\n",
    "\n",
    "# Evaluate model and calculating accuracy % and rounding off to 2 digits\n",
    "accuracy = round(accuracy_score(y_test, y_pred)*100,2)\n",
    "\n",
    "#classification report\n",
    "classification_report_gnb = classification_report(y_test, y_pred,zero_division=0)\n",
    "\n",
    "# Print the Accuracy and classification report\n",
    "print(\"Classification Report:\\n\", classification_report_gnb)\n",
    "print(\"Accuracy of Naive Bayes is:\", accuracy)\n"
   ]
  },
  {
   "cell_type": "code",
   "execution_count": 8,
   "metadata": {},
   "outputs": [
    {
     "name": "stdout",
     "output_type": "stream",
     "text": [
      "Classification Report:\n",
      "               precision    recall  f1-score   support\n",
      "\n",
      "           1       0.36      0.89      0.52         9\n",
      "           2       0.58      0.37      0.45        19\n",
      "           3       0.00      0.00      0.00         5\n",
      "           5       0.50      0.50      0.50         2\n",
      "           6       0.00      0.00      0.00         2\n",
      "           7       0.86      1.00      0.92         6\n",
      "\n",
      "    accuracy                           0.51        43\n",
      "   macro avg       0.38      0.46      0.40        43\n",
      "weighted avg       0.48      0.51      0.46        43\n",
      "\n",
      "Accuracy of SVM is: 51.162790697674424\n"
     ]
    }
   ],
   "source": [
    "import pandas as pd\n",
    "from sklearn.model_selection import train_test_split\n",
    "from sklearn.svm import SVC, LinearSVC\n",
    "from sklearn.metrics import accuracy_score, classification_report\n",
    "\n",
    "# Loading the Glass dataset\n",
    "glass = pd.read_csv('glass.csv')\n",
    "x = glass.drop(\"Type\", axis=1)\n",
    "y = glass['Type']\n",
    "\n",
    "# splitting train and test data using train_test_split\n",
    "x_train, x_test, y_train, y_test = train_test_split(x, y, test_size=0.2, random_state=0)\n",
    "\n",
    "#using the SVM method\n",
    "svm = SVC(kernel='linear')\n",
    "\n",
    "# Train the model on the training set\n",
    "svm.fit(x_train, y_train)\n",
    "\n",
    "# Make predictions on the test set\n",
    "y_pred = svm.predict(x_test)\n",
    "\n",
    "# Evaluate model and calculating accuracy % and rounding off to 2 digits\n",
    "accuracy = round(accuracy_score(y_test, y_pred)*100,2)\n",
    "\n",
    "# Classification report \n",
    "classification_report_output = classification_report(y_test, y_pred, zero_division=0)\n",
    "\n",
    "# Print the Accuracy and classification report\n",
    "print(\"Classification Report:\\n\", classification_report_output)\n",
    "print(\"Accuracy of SVM is:\", accuracy)"
   ]
  },
  {
   "cell_type": "code",
   "execution_count": null,
   "metadata": {},
   "outputs": [],
   "source": []
  }
 ],
 "metadata": {
  "kernelspec": {
   "display_name": "Python 3",
   "language": "python",
   "name": "python3"
  },
  "language_info": {
   "codemirror_mode": {
    "name": "ipython",
    "version": 3
   },
   "file_extension": ".py",
   "mimetype": "text/x-python",
   "name": "python",
   "nbconvert_exporter": "python",
   "pygments_lexer": "ipython3",
   "version": "3.8.5"
  }
 },
 "nbformat": 4,
 "nbformat_minor": 4
}
